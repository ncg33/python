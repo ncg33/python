{
 "cells": [
  {
   "cell_type": "code",
<<<<<<< HEAD
   "execution_count": 3,
=======
   "execution_count": 1,
>>>>>>> 2b887f2925d6c8fdd32a5a27c39db67bf7b605af
   "metadata": {},
   "outputs": [],
   "source": [
    "import collections\n",
    "Card = collections.namedtuple(\"Card\",['rank','suit'])\n",
    "\n",
    "class Deck:\n",
    "    ranks = [str(n) for n in range(2,11)] + list('JQKA')\n",
    "    suits = 'hearts diamonds spades clubs'.split()\n",
    "\n",
    "    def __init__(self):\n",
    "        self._cards = [Card(rank,suit) for rank in self.ranks for suit in self.suits]\n",
    "    \n",
    "    def __getitem__(self,position):\n",
    "        return self._cards[position]\n",
    "    \n",
    "    def __len__(self):\n",
    "        return len(self._cards)\n",
    "\n"
   ]
  },
  {
   "cell_type": "code",
<<<<<<< HEAD
   "execution_count": 5,
=======
   "execution_count": 4,
>>>>>>> 2b887f2925d6c8fdd32a5a27c39db67bf7b605af
   "metadata": {},
   "outputs": [
    {
     "data": {
<<<<<<< HEAD
      "text/plain": [
       "Card(rank='2', suit='diamonds')"
      ]
     },
     "execution_count": 5,
     "metadata": {},
     "output_type": "execute_result"
    }
   ],
   "source": [
    "myDeck = Deck()\n",
    "myDeck[1]"
=======
      "image/png": "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",
      "text/plain": [
       "<Figure size 432x288 with 1 Axes>"
      ]
     },
     "metadata": {
      "needs_background": "light"
     },
     "output_type": "display_data"
    }
   ],
   "source": [
    "def ball_trajectory(x):\n",
    "    loc = 10*x -5*(x**2)\n",
    "    return loc\n",
    "\n",
    "import matplotlib.pyplot as plt\n",
    "\n",
    "xs = [x/100 for x in list(range(201))]\n",
    "ys = [ball_trajectory(x) for x in xs]\n",
    "plt.plot(xs,ys)\n",
    "plt.show()"
>>>>>>> 2b887f2925d6c8fdd32a5a27c39db67bf7b605af
   ]
  },
  {
   "cell_type": "code",
<<<<<<< HEAD
=======
   "execution_count": null,
   "metadata": {},
   "outputs": [],
   "source": []
  },
  {
   "cell_type": "code",
>>>>>>> 2b887f2925d6c8fdd32a5a27c39db67bf7b605af
   "execution_count": null,
   "metadata": {},
   "outputs": [],
   "source": []
  }
 ],
 "metadata": {
  "interpreter": {
   "hash": "c62b24379f0b0512a989480acc8df2a5bf6d5b44c4aeb9348c29fe9ebe85ed98"
  },
  "kernelspec": {
   "display_name": "Python 3.9.12 ('base')",
   "language": "python",
   "name": "python3"
  },
  "language_info": {
   "codemirror_mode": {
    "name": "ipython",
    "version": 3
   },
   "file_extension": ".py",
   "mimetype": "text/x-python",
   "name": "python",
   "nbconvert_exporter": "python",
   "pygments_lexer": "ipython3",
   "version": "3.9.12"
  },
  "orig_nbformat": 4,
  "vscode": {
   "interpreter": {
    "hash": "c62b24379f0b0512a989480acc8df2a5bf6d5b44c4aeb9348c29fe9ebe85ed98"
   }
  }
 },
 "nbformat": 4,
 "nbformat_minor": 2
}
