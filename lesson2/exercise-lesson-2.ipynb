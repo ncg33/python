{
 "cells": [
  {
   "cell_type": "code",
   "execution_count": 8,
   "metadata": {},
   "outputs": [],
   "source": [
    "\n",
    "def cost_of_trip(days, return_flight, hotel, car):\n",
    "    total_hotel = hotel * days\n",
    "    total_car = ((days-1) // 7 + 1) * car\n",
    "    total = return_flight + total_hotel + total_car\n",
    "    return total"
   ]
  },
  {
   "cell_type": "code",
   "execution_count": 13,
   "metadata": {},
   "outputs": [
    {
     "name": "stdout",
     "output_type": "stream",
     "text": [
      "Question 1:\n",
      "The cost of Paris for 14 days is $880.\n",
      "The cost of London for 14 days is $910.\n",
      "The cost of Dubai for 14 days is $740.\n",
      "The cost of Mumbai for 14 days is $730.\n"
     ]
    }
   ],
   "source": [
    "days = 14\n",
    "paris = cost_of_trip(\n",
    "    days=days,\n",
    "    return_flight=200,\n",
    "    hotel=20,\n",
    "    car=200\n",
    ")\n",
    "london = cost_of_trip(\n",
    "    days=days,\n",
    "    return_flight=250,\n",
    "    hotel=30,\n",
    "    car=120\n",
    ")\n",
    "dubai = cost_of_trip(\n",
    "    days=days,\n",
    "    return_flight=370,\n",
    "    hotel=15,\n",
    "    car=80\n",
    ")\n",
    "mumbai = cost_of_trip(\n",
    "    days=days,\n",
    "    return_flight=450,\n",
    "    hotel=10,\n",
    "    car=70\n",
    ")\n",
    "\n",
    "print((\"Question 1:\\nThe cost of Paris for {} days is ${}.\\nThe cost of London for {} days is ${}.\" +\n",
    "    \"\\nThe cost of Dubai for {} days is ${}.\\nThe cost of Mumbai for {} days is ${}.\").format(\n",
    "        days, paris, days, london, days, dubai, days, mumbai\n",
    "        ))"
   ]
  },
  {
   "cell_type": "code",
   "execution_count": 16,
   "metadata": {},
   "outputs": [],
   "source": [
    "Paris = [200, 20, 200, 'Paris']\n",
    "London = [250, 30, 120, 'London']\n",
    "Dubai = [370, 15, 80, 'Dubai']\n",
    "Mumbai = [450, 10, 70, 'Mumbai']\n",
    "Cities = [Paris, London, Dubai, Mumbai]\n",
    "\n",
    "def trip_budget(budget,less_days=False):\n",
    "    days = 1\n",
    "    cost = 0\n",
    "    while cost<budget:\n",
    "        cost_before = cost\n",
    "        try:\n",
    "            costs_before=costs.copy()\n",
    "        except:\n",
    "            costs_before = {}\n",
    "        costs = {}\n",
    "        for city in Cities:\n",
    "            cost = cost_of_trip(days,city[0],city[1],city[2])\n",
    "            costs[cost] = city[3]\n",
    "        if less_days:\n",
    "            cost = max(list(costs.keys()))\n",
    "            if cost >= budget:\n",
    "                return costs_before[cost_before], days -1\n",
    "        else:\n",
    "            cost = min(list(costs.keys()))\n",
    "            if cost >= budget:\n",
    "                return costs_before[cost_before], days -1\n",
    "\n",
    "        days += 1"
   ]
  },
  {
   "cell_type": "code",
   "execution_count": 22,
   "metadata": {},
   "outputs": [
    {
     "data": {
      "text/plain": [
       "('Paris', 139)"
      ]
     },
     "execution_count": 22,
     "metadata": {},
     "output_type": "execute_result"
    }
   ],
   "source": [
    "city_to_stay_max_days = trip_budget(7000, True)\n",
    "city_to_stay_max_days"
   ]
  },
  {
   "cell_type": "code",
   "execution_count": 26,
   "metadata": {},
   "outputs": [],
   "source": [
    "Paris = [200, 20, 200, 'Paris']\n",
    "London = [250, 30, 120, 'London']\n",
    "Dubai = [370, 15, 80, 'Dubai']\n",
    "Mumbai = [450, 10, 70, 'Mumbai']\n",
    "Cities = [Paris, London, Dubai, Mumbai]\n",
    "\n",
    "def budget(budget,maximize_num_of_days=True):\n",
    "    days = 1\n",
    "    cost = 0\n",
    "\n",
    "    while cost < budget:\n",
    "        previous_cost = cost\n",
    "        try:\n",
    "            previous_costs = costs.copy()\n",
    "        except:\n",
    "            previous_costs = {}\n",
    "        costs = {}\n",
    "\n",
    "        for city in Cities:\n",
    "            cost = cost_of_trip(days, city[0], city[1], city[2])\n",
    "            costs[cost] = city[3]\n",
    "        if maximize_num_of_days:\n",
    "            cost = min(list(costs.keys()))\n",
    "            if cost >= budget:\n",
    "                return previous_costs[previous_cost], days -1\n",
    "        else:\n",
    "            cost = max(list(costs.keys()))\n",
    "            if cost >= budget:\n",
    "                return previous_costs[previous_cost], days -1\n",
    "        days += 1"
   ]
  },
  {
   "cell_type": "code",
   "execution_count": 30,
   "metadata": {},
   "outputs": [
    {
     "data": {
      "text/plain": [
       "('Paris', 24)"
      ]
     },
     "execution_count": 30,
     "metadata": {},
     "output_type": "execute_result"
    }
   ],
   "source": [
    "budget(1500, False)"
   ]
  },
  {
   "cell_type": "code",
   "execution_count": null,
   "metadata": {},
   "outputs": [],
   "source": []
  }
 ],
 "metadata": {
  "kernelspec": {
   "display_name": "Python 3.9.12 ('base')",
   "language": "python",
   "name": "python3"
  },
  "language_info": {
   "codemirror_mode": {
    "name": "ipython",
    "version": 3
   },
   "file_extension": ".py",
   "mimetype": "text/x-python",
   "name": "python",
   "nbconvert_exporter": "python",
   "pygments_lexer": "ipython3",
   "version": "3.9.12"
  },
  "orig_nbformat": 4,
  "vscode": {
   "interpreter": {
    "hash": "c62b24379f0b0512a989480acc8df2a5bf6d5b44c4aeb9348c29fe9ebe85ed98"
   }
  }
 },
 "nbformat": 4,
 "nbformat_minor": 2
}
